{
 "cells": [
  {
   "cell_type": "code",
   "execution_count": null,
   "id": "eb44fd3f",
   "metadata": {},
   "outputs": [],
   "source": [
    "# Video Basics Assessment Solution\n",
    "\n",
    "## Project Task\n",
    "# You only have one task here. Create a program that reads in a live stream \n",
    "# from a camera on your computer (or if you don't have a camera, just open up a video \n",
    "# file). Then whenever you click the left mouse button \n",
    "# down, create a blue circle around where you've clicked. Check out the video for an \n",
    "# example of what the final project should look like**b"
   ]
  },
  {
   "cell_type": "code",
   "execution_count": 1,
   "id": "995a9325",
   "metadata": {},
   "outputs": [],
   "source": [
    "import cv2\n",
    "\n",
    "# Mouse callback function\n",
    "def draw_circle(event,x,y,flags,param):\n",
    "    global center, clicked\n",
    "    \n",
    "    # Get mouse click on down and track enter\n",
    "    if event == cv2.EVENT_LBUTTONDOWN:\n",
    "        center = (x,y)\n",
    "        clicked = False\n",
    "        \n",
    "    # Use boolean variable to track if the mouse has been released\n",
    "    if event == cv2.EVENT_LBUTTONUP:\n",
    "        clicked = True\n",
    "    \n",
    "# Haven't draw anything yet!\n",
    "center = (0,0)\n",
    "clicked = False\n",
    "\n",
    "# Capture video\n",
    "cap = cv2.VideoCapture(0)\n",
    "\n",
    "# Create a named window for connections\n",
    "cv2.namedWindow('Test')\n",
    "\n",
    "# Bind draw_rectangle function to mouse clicks\n",
    "cv2.setMouseCallback('Test', draw_circle)\n",
    "\n",
    "while True:\n",
    "    # Capture frame-by-frame\n",
    "    ret, frame = cap.read()\n",
    "    \n",
    "    # Use if statement to see if clicked is true\n",
    "    if clicked == True:\n",
    "        # Draw circle on frame\n",
    "        cv2.circle(frame,center=center,radius=50,color=(255,0,0),thickness=4)\n",
    "    \n",
    "    # Display the resulting frame\n",
    "    cv2.imshow('Test',frame)\n",
    "    \n",
    "    if cv2.waitKey(1) & 0xFF == ord('q'):\n",
    "        break\n",
    "    \n",
    "# When everything is done, release the capture\n",
    "cap.release()\n",
    "cv2.destroyAllWindows()\n",
    "\n"
   ]
  }
 ],
 "metadata": {
  "kernelspec": {
   "display_name": "Python 3",
   "language": "python",
   "name": "python3"
  },
  "language_info": {
   "codemirror_mode": {
    "name": "ipython",
    "version": 3
   },
   "file_extension": ".py",
   "mimetype": "text/x-python",
   "name": "python",
   "nbconvert_exporter": "python",
   "pygments_lexer": "ipython3",
   "version": "3.6.6"
  }
 },
 "nbformat": 4,
 "nbformat_minor": 5
}
