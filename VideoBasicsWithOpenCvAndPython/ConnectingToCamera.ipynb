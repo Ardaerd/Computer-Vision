{
 "cells": [
  {
   "cell_type": "code",
   "execution_count": 7,
   "id": "8691c858",
   "metadata": {},
   "outputs": [],
   "source": [
    "## PUT THIS ALL IN ONE CELL!\n",
    "\n",
    "import cv2\n",
    "\n",
    "\n",
    "# Connects to your computer's default camera\n",
    "cap = cv2.VideoCapture(0)\n",
    "\n",
    "\n",
    "# Automatically grab width and height from video feed\n",
    "# (returns float which we need to convert to integer for later on!)\n",
    "width = int(cap.get(cv2.CAP_PROP_FRAME_WIDTH))\n",
    "height = int(cap.get(cv2.CAP_PROP_FRAME_HEIGHT))\n",
    "\n",
    "while True:\n",
    "    \n",
    "    # Capture frame-by-frame\n",
    "    ret, frame = cap.read()\n",
    "\n",
    "    # Our operations on the frame come here\n",
    "    gray = cv2.cvtColor(frame, cv2.COLOR_BGR2GRAY)\n",
    "\n",
    "    # Display the resulting frame\n",
    "    cv2.imshow('frame',gray)\n",
    "    \n",
    "    # This command let's us quit with the \"q\" button on a keyboard.\n",
    "    # Simply pressing X on the window won't work!\n",
    "    if cv2.waitKey(1) & 0xFF == ord('q'):\n",
    "        break\n",
    "\n",
    "# When everything done, release the capture and destroy the windows\n",
    "cap.release()\n",
    "cv2.destroyAllWindows()"
   ]
  },
  {
   "cell_type": "code",
   "execution_count": 12,
   "id": "10be9899",
   "metadata": {},
   "outputs": [],
   "source": [
    "import cv2\n",
    "\n",
    "cap = cv2.VideoCapture(0)\n",
    "# Automatically grab width and height from video feed\n",
    "# (returns float which we need to convert to integer for later on!)\n",
    "width = int(cap.get(cv2.CAP_PROP_FRAME_WIDTH))\n",
    "heigth = int(cap.get(cv2.CAP_PROP_FRAME_HEIGHT))\n",
    "\n",
    "# MACOS AND LINUX: *'XVID'\n",
    "writer = cv2.VideoWriter('VideoBasicsWithOpenCvAndPython/student_capture.mp4', cv2.VideoWriter_fourcc(*'XVID'),25, (width, height))\n",
    "\n",
    "while True:\n",
    "    # Capture frame-by-frame\n",
    "    ret, frame = cap.read()\n",
    "\n",
    "    \n",
    "    # Write the video\n",
    "    writer.write(frame)\n",
    "\n",
    "    # Display the resulting frame\n",
    "    cv2.imshow('frame',frame)\n",
    "    \n",
    "    # This command let's us quit with the \"q\" button on a keyboard.\n",
    "    # Simply pressing X on the window won't work!\n",
    "    if cv2.waitKey(1) & 0xFF == ord('q'):\n",
    "        break\n",
    "\n",
    "        \n",
    "cap.release()\n",
    "writer.release()\n",
    "cv2.destroyAllWindows()\n"
   ]
  }
 ],
 "metadata": {
  "kernelspec": {
   "display_name": "Python 3",
   "language": "python",
   "name": "python3"
  },
  "language_info": {
   "codemirror_mode": {
    "name": "ipython",
    "version": 3
   },
   "file_extension": ".py",
   "mimetype": "text/x-python",
   "name": "python",
   "nbconvert_exporter": "python",
   "pygments_lexer": "ipython3",
   "version": "3.6.6"
  }
 },
 "nbformat": 4,
 "nbformat_minor": 5
}
